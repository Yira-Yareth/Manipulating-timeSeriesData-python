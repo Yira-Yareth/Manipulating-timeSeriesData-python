{
 "cells": [
  {
   "attachments": {},
   "cell_type": "markdown",
   "metadata": {},
   "source": [
    "### Random walks\n",
    "Daily stock returns are notoriously hard to predict, and models often assume they follow a random walk You'll again use numpy to generate random numbers, but this time in a time series context. You'll also use the cumulative product again to create a series of prices from a series of returns\n",
    "\n",
    "In the first example, you'll generate random numbers from the bell-shaped normal distribution. This means that values around the average are more likely than extremes, as tends to be the case with stock returns. In the second example, you will randomly select actual S&P 500 returns to then simulate S&P 500 prices."
   ]
  },
  {
   "cell_type": "code",
   "execution_count": 2,
   "metadata": {},
   "outputs": [],
   "source": [
    "#libraries\n",
    "import pandas as pd \n",
    "import numpy as np\n",
    "import seaborn as sns\n",
    "from numpy.random import normal, seed, choice\n",
    "from scipy.stats import norm\n",
    "from datetime import datetime #To manually create dates\n",
    "import matplotlib.pyplot as plt"
   ]
  },
  {
   "attachments": {},
   "cell_type": "markdown",
   "metadata": {},
   "source": [
    "#### Random walk I\n",
    "You'll build your own random walk by drawing random numbers from the normal distribution with the help of numpy."
   ]
  },
  {
   "cell_type": "code",
   "execution_count": 3,
   "metadata": {},
   "outputs": [],
   "source": [
    "#Set seed to 42\n",
    "seed(42)\n"
   ]
  },
  {
   "cell_type": "code",
   "execution_count": 4,
   "metadata": {},
   "outputs": [
    {
     "data": {
      "text/plain": [
       "array([ 0.00596714, -0.00038264,  0.00747689, ..., -0.0017976 ,\n",
       "        0.00890372,  0.00440051])"
      ]
     },
     "execution_count": 4,
     "metadata": {},
     "output_type": "execute_result"
    }
   ],
   "source": [
    "#Use normal to generate 2,500 random returns with the parameters loc=.001, scale=.01 and assign this to random_walk\n",
    "random_walk =normal(loc=.001,scale=.01, size=2500)\n",
    "random_walk"
   ]
  },
  {
   "cell_type": "code",
   "execution_count": 5,
   "metadata": {},
   "outputs": [
    {
     "data": {
      "text/plain": [
       "0       0.005967\n",
       "1      -0.000383\n",
       "2       0.007477\n",
       "3       0.016230\n",
       "4      -0.001342\n",
       "          ...   \n",
       "2495    0.009132\n",
       "2496   -0.001790\n",
       "2497   -0.001798\n",
       "2498    0.008904\n",
       "2499    0.004401\n",
       "Length: 2500, dtype: float64"
      ]
     },
     "execution_count": 5,
     "metadata": {},
     "output_type": "execute_result"
    }
   ],
   "source": [
    "#Convert random_walk to a pd.Series object and reassign it to random_walk\n",
    "random_walk = pd.Series(random_walk)\n",
    "random_walk"
   ]
  },
  {
   "cell_type": "code",
   "execution_count": 6,
   "metadata": {},
   "outputs": [
    {
     "data": {
      "text/plain": [
       "0        1.005967\n",
       "1        1.005582\n",
       "2        1.013101\n",
       "3        1.029544\n",
       "4        1.028163\n",
       "          ...    \n",
       "2495    24.824558\n",
       "2496    24.780131\n",
       "2497    24.735586\n",
       "2498    24.955825\n",
       "2499    25.065643\n",
       "Length: 2500, dtype: float64"
      ]
     },
     "execution_count": 6,
     "metadata": {},
     "output_type": "execute_result"
    }
   ],
   "source": [
    "#Create random_prices by adding 1 to random_walk and calculating the cumulative product.\n",
    "random_prices = random_walk.add(1).cumprod()\n",
    "random_prices\n"
   ]
  },
  {
   "cell_type": "code",
   "execution_count": 7,
   "metadata": {},
   "outputs": [
    {
     "data": {
      "image/png": "[encoded data removed]",
      "text/plain": [
       "<Figure size 640x480 with 1 Axes>"
      ]
     },
     "metadata": {},
     "output_type": "display_data"
    }
   ],
   "source": [
    "#Multiply random_prices by 1,000 and plot the result for a price series starting at 1,000\n",
    "(random_prices.mul(1000))[1000:].plot()\n",
    "plt.show()"
   ]
  },
  {
   "attachments": {},
   "cell_type": "markdown",
   "metadata": {},
   "source": [
    "#### Random walk II\n",
    "\n",
    "In this exercise, you'll build a random walk using historical returns from Facebook's stock price since IPO through the end of May 31, 2017. Then you'll simulate an alternative random price path in the next exercise."
   ]
  },
  {
   "cell_type": "code",
   "execution_count": 8,
   "metadata": {},
   "outputs": [
    {
     "name": "stdout",
     "output_type": "stream",
     "text": [
      "<class 'pandas.core.frame.DataFrame'>\n",
      "RangeIndex: 1266 entries, 0 to 1265\n",
      "Data columns (total 2 columns):\n",
      " #   Column      Non-Null Count  Dtype  \n",
      "---  ------      --------------  -----  \n",
      " 0   2012-05-17  1266 non-null   object \n",
      " 1   38.0        1266 non-null   float64\n",
      "dtypes: float64(1), object(1)\n",
      "memory usage: 19.9+ KB\n"
     ]
    }
   ],
   "source": [
    "#import data\n",
    "fb = pd.read_csv('Datasets/Stock_data-/fb.csv')\n",
    "fb.info()"
   ]
  },
  {
   "cell_type": "code",
   "execution_count": 9,
   "metadata": {},
   "outputs": [
    {
     "data": {
      "text/html": [
       "<div>\n",
       "<style scoped>\n",
       "    .dataframe tbody tr th:only-of-type {\n",
       "        vertical-align: middle;\n",
       "    }\n",
       "\n",
       "    .dataframe tbody tr th {\n",
       "        vertical-align: top;\n",
       "    }\n",
       "\n",
       "    .dataframe thead th {\n",
       "        text-align: right;\n",
       "    }\n",
       "</style>\n",
       "<table border=\"1\" class=\"dataframe\">\n",
       "  <thead>\n",
       "    <tr style=\"text-align: right;\">\n",
       "      <th></th>\n",
       "      <th>date</th>\n",
       "      <th>price</th>\n",
       "    </tr>\n",
       "  </thead>\n",
       "  <tbody>\n",
       "    <tr>\n",
       "      <th>0</th>\n",
       "      <td>2012-05-18</td>\n",
       "      <td>38.23</td>\n",
       "    </tr>\n",
       "    <tr>\n",
       "      <th>1</th>\n",
       "      <td>2012-05-21</td>\n",
       "      <td>34.03</td>\n",
       "    </tr>\n",
       "    <tr>\n",
       "      <th>2</th>\n",
       "      <td>2012-05-22</td>\n",
       "      <td>31.00</td>\n",
       "    </tr>\n",
       "    <tr>\n",
       "      <th>3</th>\n",
       "      <td>2012-05-23</td>\n",
       "      <td>32.00</td>\n",
       "    </tr>\n",
       "    <tr>\n",
       "      <th>4</th>\n",
       "      <td>2012-05-24</td>\n",
       "      <td>33.03</td>\n",
       "    </tr>\n",
       "  </tbody>\n",
       "</table>\n",
       "</div>"
      ],
      "text/plain": [
       "         date  price\n",
       "0  2012-05-18  38.23\n",
       "1  2012-05-21  34.03\n",
       "2  2012-05-22  31.00\n",
       "3  2012-05-23  32.00\n",
       "4  2012-05-24  33.03"
      ]
     },
     "execution_count": 9,
     "metadata": {},
     "output_type": "execute_result"
    }
   ],
   "source": [
    "fb.columns=[\"date\",\"price\"]\n",
    "fb.head()"
   ]
  },
  {
   "cell_type": "code",
   "execution_count": 10,
   "metadata": {},
   "outputs": [
    {
     "name": "stdout",
     "output_type": "stream",
     "text": [
      "<class 'pandas.core.frame.DataFrame'>\n",
      "DatetimeIndex: 1266 entries, 2012-05-18 to 2017-05-31\n",
      "Data columns (total 1 columns):\n",
      " #   Column  Non-Null Count  Dtype  \n",
      "---  ------  --------------  -----  \n",
      " 0   price   1266 non-null   float64\n",
      "dtypes: float64(1)\n",
      "memory usage: 19.8 KB\n"
     ]
    }
   ],
   "source": [
    "fb['date'] = pd.to_datetime(fb['date'])\n",
    "fb.set_index('date', inplace=True)\n",
    "fb.info()"
   ]
  },
  {
   "cell_type": "code",
   "execution_count": 11,
   "metadata": {},
   "outputs": [],
   "source": [
    "# Set seed to 42 here\n",
    "seed(42)"
   ]
  },
  {
   "cell_type": "code",
   "execution_count": 12,
   "metadata": {},
   "outputs": [],
   "source": [
    "#Apply .pct_change() to generate daily Facebook returns, drop missing values, and assign to daily_returns\n",
    "daily_returns = fb.iloc[:,0].pct_change().dropna()"
   ]
  },
  {
   "cell_type": "code",
   "execution_count": 13,
   "metadata": {},
   "outputs": [
    {
     "data": {
      "text/plain": [
       "date\n",
       "2012-05-21   -0.109861\n",
       "2012-05-22   -0.089039\n",
       "2012-05-23    0.032258\n",
       "2012-05-24    0.032188\n",
       "2012-05-25   -0.033909\n",
       "                ...   \n",
       "2017-05-24    0.013305\n",
       "2017-05-25    0.012797\n",
       "2017-05-26    0.001119\n",
       "2017-05-30    0.001643\n",
       "2017-05-31   -0.006038\n",
       "Name: price, Length: 1265, dtype: float64"
      ]
     },
     "execution_count": 13,
     "metadata": {},
     "output_type": "execute_result"
    }
   ],
   "source": [
    "daily_returns"
   ]
  },
  {
   "cell_type": "code",
   "execution_count": 14,
   "metadata": {},
   "outputs": [
    {
     "data": {
      "text/plain": [
       "1265"
      ]
     },
     "execution_count": 14,
     "metadata": {},
     "output_type": "execute_result"
    }
   ],
   "source": [
    "#Create a variable n_obs that contains the .count() of Facebook daily_returns.\n",
    "n_obs = daily_returns.count()\n",
    "n_obs"
   ]
  },
  {
   "cell_type": "code",
   "execution_count": 15,
   "metadata": {},
   "outputs": [
    {
     "data": {
      "text/plain": [
       "array([-0.00837224,  0.00113402,  0.01842197, ...,  0.00298616,\n",
       "       -0.00265874, -0.01866667])"
      ]
     },
     "execution_count": 15,
     "metadata": {},
     "output_type": "execute_result"
    }
   ],
   "source": [
    "#Use choice() to randomly select n_obs samples from daily_returns, and assign to random_walk\n",
    "random_walk = choice(daily_returns, size=n_obs)\n",
    "random_walk\n"
   ]
  },
  {
   "cell_type": "code",
   "execution_count": 16,
   "metadata": {},
   "outputs": [
    {
     "data": {
      "text/plain": [
       "pandas.core.series.Series"
      ]
     },
     "execution_count": 16,
     "metadata": {},
     "output_type": "execute_result"
    }
   ],
   "source": [
    "#Convert random_walk to a pd.Series and reassign it to itself.\n",
    "random_walk = pd.Series(random_walk)\n",
    "type(random_walk)"
   ]
  },
  {
   "cell_type": "code",
   "execution_count": 17,
   "metadata": {},
   "outputs": [
    {
     "name": "stderr",
     "output_type": "stream",
     "text": [
      "c:\\Users\\Yira\\lib\\site-packages\\seaborn\\distributions.py:2619: FutureWarning: `distplot` is a deprecated function and will be removed in a future version. Please adapt your code to use either `displot` (a figure-level function with similar flexibility) or `histplot` (an axes-level function for histograms).\n",
      "  warnings.warn(msg, FutureWarning)\n"
     ]
    },
    {
     "data": {
      "image/png": "[encoded data removed]",
      "text/plain": [
       "<Figure size 640x480 with 1 Axes>"
      ]
     },
     "metadata": {},
     "output_type": "display_data"
    }
   ],
   "source": [
    "#Use sns.distplot() to plot the distribution of random_walk\n",
    "sns.distplot(random_walk)\n",
    "plt.show()"
   ]
  },
  {
   "attachments": {},
   "cell_type": "markdown",
   "metadata": {},
   "source": [
    "#### Random walk III\n",
    "In this exercise, you'll complete your random walk simulation using Facebook stock returns over the last five years. You'll start off with a random sample of returns like the one you've generated during the last exercise and use it to create a random stock price path."
   ]
  },
  {
   "cell_type": "code",
   "execution_count": 18,
   "metadata": {},
   "outputs": [
    {
     "data": {
      "text/plain": [
       "date\n",
       "2012-05-18    38.23\n",
       "Name: price, dtype: float64"
      ]
     },
     "execution_count": 18,
     "metadata": {},
     "output_type": "execute_result"
    }
   ],
   "source": [
    "#Select the first Facebook price by applying .first('D') to fb.price, and assign to start\n",
    "start = fb.price.first('D')\n",
    "start"
   ]
  },
  {
   "cell_type": "code",
   "execution_count": 19,
   "metadata": {},
   "outputs": [
    {
     "name": "stderr",
     "output_type": "stream",
     "text": [
      "C:\\Users\\Yira Yareth\\AppData\\Local\\Temp\\ipykernel_25320\\2066351653.py:3: FutureWarning: The series.append method is deprecated and will be removed from pandas in a future version. Use pandas.concat instead.\n",
      "  random_price = start.append(random_walk)\n"
     ]
    }
   ],
   "source": [
    "#Add 1 to random_walk and reassign it to itself, then .append() random_walk to start and assign this to random_price\n",
    "random_walk = random_walk.add(1)\n",
    "random_price = start.append(random_walk)"
   ]
  },
  {
   "cell_type": "code",
   "execution_count": 20,
   "metadata": {},
   "outputs": [],
   "source": [
    "# Calculate cumulative product here\n",
    "random_price = random_price.cumprod()"
   ]
  },
  {
   "cell_type": "code",
   "execution_count": 21,
   "metadata": {},
   "outputs": [
    {
     "data": {
      "image/png": "[encoded data removed]",
      "text/plain": [
       "<Figure size 640x480 with 1 Axes>"
      ]
     },
     "metadata": {},
     "output_type": "display_data"
    }
   ],
   "source": [
    "#Insert random_price as new column labeled random into fb and plot the result.\n",
    "fb['random'] = random_price\n",
    "fb.plot()\n",
    "plt.show()"
   ]
  },
  {
   "attachments": {},
   "cell_type": "markdown",
   "metadata": {},
   "source": [
    "#### Annual return correlations among several stocks\n",
    "\n",
    "In this exercise, we have provided you with the historical stock prices for Apple (AAPL), Amazon (AMZN), IBM (IBM), WalMart (WMT), and Exxon Mobile (XOM) for the last 4,000 trading days from July 2001 until the end of May 2017.\n",
    "\n",
    "You'll calculate the year-end returns, the pairwise correlations among all stocks, and visualize the result as an annotated heatmap."
   ]
  },
  {
   "cell_type": "code",
   "execution_count": 25,
   "metadata": {},
   "outputs": [
    {
     "name": "stdout",
     "output_type": "stream",
     "text": [
      "<class 'pandas.core.frame.DataFrame'>\n",
      "DatetimeIndex: 4001 entries, 2001-07-05 to 2017-05-31\n",
      "Data columns (total 5 columns):\n",
      " #   Column  Non-Null Count  Dtype  \n",
      "---  ------  --------------  -----  \n",
      " 0   AAPL    4000 non-null   float64\n",
      " 1   AMZN    4000 non-null   float64\n",
      " 2   IBM     4000 non-null   float64\n",
      " 3   WMT     4000 non-null   float64\n",
      " 4   XOM     4000 non-null   float64\n",
      "dtypes: float64(5)\n",
      "memory usage: 187.5 KB\n"
     ]
    }
   ],
   "source": [
    "data= pd.read_csv('Datasets/Stock_data-/5_stocks.csv',parse_dates=['Date'], index_col='Date')\n",
    "data.info()"
   ]
  },
  {
   "cell_type": "code",
   "execution_count": 26,
   "metadata": {},
   "outputs": [
    {
     "data": {
      "text/html": [
       "<div>\n",
       "<style scoped>\n",
       "    .dataframe tbody tr th:only-of-type {\n",
       "        vertical-align: middle;\n",
       "    }\n",
       "\n",
       "    .dataframe tbody tr th {\n",
       "        vertical-align: top;\n",
       "    }\n",
       "\n",
       "    .dataframe thead th {\n",
       "        text-align: right;\n",
       "    }\n",
       "</style>\n",
       "<table border=\"1\" class=\"dataframe\">\n",
       "  <thead>\n",
       "    <tr style=\"text-align: right;\">\n",
       "      <th></th>\n",
       "      <th>AAPL</th>\n",
       "      <th>AMZN</th>\n",
       "      <th>IBM</th>\n",
       "      <th>WMT</th>\n",
       "      <th>XOM</th>\n",
       "    </tr>\n",
       "    <tr>\n",
       "      <th>Date</th>\n",
       "      <th></th>\n",
       "      <th></th>\n",
       "      <th></th>\n",
       "      <th></th>\n",
       "      <th></th>\n",
       "    </tr>\n",
       "  </thead>\n",
       "  <tbody>\n",
       "    <tr>\n",
       "      <th>2001-07-05</th>\n",
       "      <td>1.66</td>\n",
       "      <td>15.27</td>\n",
       "      <td>NaN</td>\n",
       "      <td>NaN</td>\n",
       "      <td>NaN</td>\n",
       "    </tr>\n",
       "    <tr>\n",
       "      <th>2001-07-06</th>\n",
       "      <td>1.57</td>\n",
       "      <td>15.27</td>\n",
       "      <td>106.50</td>\n",
       "      <td>47.34</td>\n",
       "      <td>43.40</td>\n",
       "    </tr>\n",
       "    <tr>\n",
       "      <th>2001-07-09</th>\n",
       "      <td>1.62</td>\n",
       "      <td>15.81</td>\n",
       "      <td>104.72</td>\n",
       "      <td>48.25</td>\n",
       "      <td>43.36</td>\n",
       "    </tr>\n",
       "    <tr>\n",
       "      <th>2001-07-10</th>\n",
       "      <td>1.51</td>\n",
       "      <td>15.61</td>\n",
       "      <td>101.96</td>\n",
       "      <td>47.50</td>\n",
       "      <td>42.88</td>\n",
       "    </tr>\n",
       "    <tr>\n",
       "      <th>2001-07-11</th>\n",
       "      <td>1.61</td>\n",
       "      <td>15.34</td>\n",
       "      <td>103.85</td>\n",
       "      <td>48.85</td>\n",
       "      <td>42.48</td>\n",
       "    </tr>\n",
       "  </tbody>\n",
       "</table>\n",
       "</div>"
      ],
      "text/plain": [
       "            AAPL   AMZN     IBM    WMT    XOM\n",
       "Date                                         \n",
       "2001-07-05  1.66  15.27     NaN    NaN    NaN\n",
       "2001-07-06  1.57  15.27  106.50  47.34  43.40\n",
       "2001-07-09  1.62  15.81  104.72  48.25  43.36\n",
       "2001-07-10  1.51  15.61  101.96  47.50  42.88\n",
       "2001-07-11  1.61  15.34  103.85  48.85  42.48"
      ]
     },
     "execution_count": 26,
     "metadata": {},
     "output_type": "execute_result"
    }
   ],
   "source": [
    "data.head()"
   ]
  },
  {
   "cell_type": "code",
   "execution_count": 27,
   "metadata": {},
   "outputs": [
    {
     "data": {
      "text/html": [
       "<div>\n",
       "<style scoped>\n",
       "    .dataframe tbody tr th:only-of-type {\n",
       "        vertical-align: middle;\n",
       "    }\n",
       "\n",
       "    .dataframe tbody tr th {\n",
       "        vertical-align: top;\n",
       "    }\n",
       "\n",
       "    .dataframe thead th {\n",
       "        text-align: right;\n",
       "    }\n",
       "</style>\n",
       "<table border=\"1\" class=\"dataframe\">\n",
       "  <thead>\n",
       "    <tr style=\"text-align: right;\">\n",
       "      <th></th>\n",
       "      <th>AAPL</th>\n",
       "      <th>AMZN</th>\n",
       "      <th>IBM</th>\n",
       "      <th>WMT</th>\n",
       "      <th>XOM</th>\n",
       "    </tr>\n",
       "    <tr>\n",
       "      <th>Date</th>\n",
       "      <th></th>\n",
       "      <th></th>\n",
       "      <th></th>\n",
       "      <th></th>\n",
       "      <th></th>\n",
       "    </tr>\n",
       "  </thead>\n",
       "  <tbody>\n",
       "    <tr>\n",
       "      <th>2001-12-31</th>\n",
       "      <td>1.56</td>\n",
       "      <td>10.82</td>\n",
       "      <td>120.96</td>\n",
       "      <td>57.55</td>\n",
       "      <td>39.30</td>\n",
       "    </tr>\n",
       "    <tr>\n",
       "      <th>2002-12-31</th>\n",
       "      <td>1.02</td>\n",
       "      <td>18.89</td>\n",
       "      <td>77.50</td>\n",
       "      <td>50.51</td>\n",
       "      <td>34.94</td>\n",
       "    </tr>\n",
       "    <tr>\n",
       "      <th>2003-12-31</th>\n",
       "      <td>1.53</td>\n",
       "      <td>52.62</td>\n",
       "      <td>92.68</td>\n",
       "      <td>53.05</td>\n",
       "      <td>41.00</td>\n",
       "    </tr>\n",
       "    <tr>\n",
       "      <th>2004-12-31</th>\n",
       "      <td>4.60</td>\n",
       "      <td>44.29</td>\n",
       "      <td>98.58</td>\n",
       "      <td>52.82</td>\n",
       "      <td>51.26</td>\n",
       "    </tr>\n",
       "    <tr>\n",
       "      <th>2005-12-31</th>\n",
       "      <td>10.27</td>\n",
       "      <td>47.15</td>\n",
       "      <td>82.20</td>\n",
       "      <td>46.80</td>\n",
       "      <td>56.17</td>\n",
       "    </tr>\n",
       "    <tr>\n",
       "      <th>2006-12-31</th>\n",
       "      <td>12.12</td>\n",
       "      <td>39.46</td>\n",
       "      <td>97.15</td>\n",
       "      <td>46.18</td>\n",
       "      <td>76.63</td>\n",
       "    </tr>\n",
       "    <tr>\n",
       "      <th>2007-12-31</th>\n",
       "      <td>28.30</td>\n",
       "      <td>92.64</td>\n",
       "      <td>108.10</td>\n",
       "      <td>47.53</td>\n",
       "      <td>93.69</td>\n",
       "    </tr>\n",
       "    <tr>\n",
       "      <th>2008-12-31</th>\n",
       "      <td>12.19</td>\n",
       "      <td>51.28</td>\n",
       "      <td>84.16</td>\n",
       "      <td>56.06</td>\n",
       "      <td>79.83</td>\n",
       "    </tr>\n",
       "    <tr>\n",
       "      <th>2009-12-31</th>\n",
       "      <td>30.10</td>\n",
       "      <td>134.52</td>\n",
       "      <td>130.90</td>\n",
       "      <td>53.45</td>\n",
       "      <td>68.19</td>\n",
       "    </tr>\n",
       "    <tr>\n",
       "      <th>2010-12-31</th>\n",
       "      <td>46.08</td>\n",
       "      <td>180.00</td>\n",
       "      <td>146.76</td>\n",
       "      <td>53.93</td>\n",
       "      <td>73.12</td>\n",
       "    </tr>\n",
       "    <tr>\n",
       "      <th>2011-12-31</th>\n",
       "      <td>57.86</td>\n",
       "      <td>173.10</td>\n",
       "      <td>183.88</td>\n",
       "      <td>59.76</td>\n",
       "      <td>84.76</td>\n",
       "    </tr>\n",
       "    <tr>\n",
       "      <th>2012-12-31</th>\n",
       "      <td>76.02</td>\n",
       "      <td>250.87</td>\n",
       "      <td>191.55</td>\n",
       "      <td>68.23</td>\n",
       "      <td>86.55</td>\n",
       "    </tr>\n",
       "    <tr>\n",
       "      <th>2013-12-31</th>\n",
       "      <td>80.15</td>\n",
       "      <td>398.79</td>\n",
       "      <td>187.57</td>\n",
       "      <td>78.69</td>\n",
       "      <td>101.20</td>\n",
       "    </tr>\n",
       "    <tr>\n",
       "      <th>2014-12-31</th>\n",
       "      <td>110.38</td>\n",
       "      <td>310.35</td>\n",
       "      <td>160.44</td>\n",
       "      <td>85.88</td>\n",
       "      <td>92.45</td>\n",
       "    </tr>\n",
       "    <tr>\n",
       "      <th>2015-12-31</th>\n",
       "      <td>105.26</td>\n",
       "      <td>675.89</td>\n",
       "      <td>137.62</td>\n",
       "      <td>61.30</td>\n",
       "      <td>77.95</td>\n",
       "    </tr>\n",
       "    <tr>\n",
       "      <th>2016-12-31</th>\n",
       "      <td>115.82</td>\n",
       "      <td>749.87</td>\n",
       "      <td>165.99</td>\n",
       "      <td>69.12</td>\n",
       "      <td>90.26</td>\n",
       "    </tr>\n",
       "    <tr>\n",
       "      <th>2017-12-31</th>\n",
       "      <td>152.76</td>\n",
       "      <td>994.62</td>\n",
       "      <td>152.63</td>\n",
       "      <td>78.60</td>\n",
       "      <td>80.50</td>\n",
       "    </tr>\n",
       "  </tbody>\n",
       "</table>\n",
       "</div>"
      ],
      "text/plain": [
       "              AAPL    AMZN     IBM    WMT     XOM\n",
       "Date                                             \n",
       "2001-12-31    1.56   10.82  120.96  57.55   39.30\n",
       "2002-12-31    1.02   18.89   77.50  50.51   34.94\n",
       "2003-12-31    1.53   52.62   92.68  53.05   41.00\n",
       "2004-12-31    4.60   44.29   98.58  52.82   51.26\n",
       "2005-12-31   10.27   47.15   82.20  46.80   56.17\n",
       "2006-12-31   12.12   39.46   97.15  46.18   76.63\n",
       "2007-12-31   28.30   92.64  108.10  47.53   93.69\n",
       "2008-12-31   12.19   51.28   84.16  56.06   79.83\n",
       "2009-12-31   30.10  134.52  130.90  53.45   68.19\n",
       "2010-12-31   46.08  180.00  146.76  53.93   73.12\n",
       "2011-12-31   57.86  173.10  183.88  59.76   84.76\n",
       "2012-12-31   76.02  250.87  191.55  68.23   86.55\n",
       "2013-12-31   80.15  398.79  187.57  78.69  101.20\n",
       "2014-12-31  110.38  310.35  160.44  85.88   92.45\n",
       "2015-12-31  105.26  675.89  137.62  61.30   77.95\n",
       "2016-12-31  115.82  749.87  165.99  69.12   90.26\n",
       "2017-12-31  152.76  994.62  152.63  78.60   80.50"
      ]
     },
     "execution_count": 27,
     "metadata": {},
     "output_type": "execute_result"
    }
   ],
   "source": [
    "#Apply .resample() with year-end frequency (alias: 'A') to data and select the .last() price from each subperiod; assign this to annual_prices\n",
    "annual_prices = data.resample('A').last()\n",
    "annual_prices"
   ]
  },
  {
   "cell_type": "code",
   "execution_count": 28,
   "metadata": {},
   "outputs": [
    {
     "data": {
      "text/html": [
       "<div>\n",
       "<style scoped>\n",
       "    .dataframe tbody tr th:only-of-type {\n",
       "        vertical-align: middle;\n",
       "    }\n",
       "\n",
       "    .dataframe tbody tr th {\n",
       "        vertical-align: top;\n",
       "    }\n",
       "\n",
       "    .dataframe thead th {\n",
       "        text-align: right;\n",
       "    }\n",
       "</style>\n",
       "<table border=\"1\" class=\"dataframe\">\n",
       "  <thead>\n",
       "    <tr style=\"text-align: right;\">\n",
       "      <th></th>\n",
       "      <th>AAPL</th>\n",
       "      <th>AMZN</th>\n",
       "      <th>IBM</th>\n",
       "      <th>WMT</th>\n",
       "      <th>XOM</th>\n",
       "    </tr>\n",
       "    <tr>\n",
       "      <th>Date</th>\n",
       "      <th></th>\n",
       "      <th></th>\n",
       "      <th></th>\n",
       "      <th></th>\n",
       "      <th></th>\n",
       "    </tr>\n",
       "  </thead>\n",
       "  <tbody>\n",
       "    <tr>\n",
       "      <th>2001-12-31</th>\n",
       "      <td>NaN</td>\n",
       "      <td>NaN</td>\n",
       "      <td>NaN</td>\n",
       "      <td>NaN</td>\n",
       "      <td>NaN</td>\n",
       "    </tr>\n",
       "    <tr>\n",
       "      <th>2002-12-31</th>\n",
       "      <td>-0.346154</td>\n",
       "      <td>0.745841</td>\n",
       "      <td>-0.359292</td>\n",
       "      <td>-0.122328</td>\n",
       "      <td>-0.110941</td>\n",
       "    </tr>\n",
       "    <tr>\n",
       "      <th>2003-12-31</th>\n",
       "      <td>0.500000</td>\n",
       "      <td>1.785601</td>\n",
       "      <td>0.195871</td>\n",
       "      <td>0.050287</td>\n",
       "      <td>0.173440</td>\n",
       "    </tr>\n",
       "    <tr>\n",
       "      <th>2004-12-31</th>\n",
       "      <td>2.006536</td>\n",
       "      <td>-0.158305</td>\n",
       "      <td>0.063660</td>\n",
       "      <td>-0.004336</td>\n",
       "      <td>0.250244</td>\n",
       "    </tr>\n",
       "    <tr>\n",
       "      <th>2005-12-31</th>\n",
       "      <td>1.232609</td>\n",
       "      <td>0.064574</td>\n",
       "      <td>-0.166159</td>\n",
       "      <td>-0.113972</td>\n",
       "      <td>0.095786</td>\n",
       "    </tr>\n",
       "    <tr>\n",
       "      <th>2006-12-31</th>\n",
       "      <td>0.180136</td>\n",
       "      <td>-0.163097</td>\n",
       "      <td>0.181873</td>\n",
       "      <td>-0.013248</td>\n",
       "      <td>0.364251</td>\n",
       "    </tr>\n",
       "    <tr>\n",
       "      <th>2007-12-31</th>\n",
       "      <td>1.334983</td>\n",
       "      <td>1.347694</td>\n",
       "      <td>0.112712</td>\n",
       "      <td>0.029233</td>\n",
       "      <td>0.222628</td>\n",
       "    </tr>\n",
       "    <tr>\n",
       "      <th>2008-12-31</th>\n",
       "      <td>-0.569258</td>\n",
       "      <td>-0.446459</td>\n",
       "      <td>-0.221462</td>\n",
       "      <td>0.179466</td>\n",
       "      <td>-0.147935</td>\n",
       "    </tr>\n",
       "    <tr>\n",
       "      <th>2009-12-31</th>\n",
       "      <td>1.469237</td>\n",
       "      <td>1.623245</td>\n",
       "      <td>0.555371</td>\n",
       "      <td>-0.046557</td>\n",
       "      <td>-0.145810</td>\n",
       "    </tr>\n",
       "    <tr>\n",
       "      <th>2010-12-31</th>\n",
       "      <td>0.530897</td>\n",
       "      <td>0.338091</td>\n",
       "      <td>0.121161</td>\n",
       "      <td>0.008980</td>\n",
       "      <td>0.072298</td>\n",
       "    </tr>\n",
       "    <tr>\n",
       "      <th>2011-12-31</th>\n",
       "      <td>0.255642</td>\n",
       "      <td>-0.038333</td>\n",
       "      <td>0.252930</td>\n",
       "      <td>0.108103</td>\n",
       "      <td>0.159190</td>\n",
       "    </tr>\n",
       "    <tr>\n",
       "      <th>2012-12-31</th>\n",
       "      <td>0.313861</td>\n",
       "      <td>0.449278</td>\n",
       "      <td>0.041712</td>\n",
       "      <td>0.141734</td>\n",
       "      <td>0.021118</td>\n",
       "    </tr>\n",
       "    <tr>\n",
       "      <th>2013-12-31</th>\n",
       "      <td>0.054328</td>\n",
       "      <td>0.589628</td>\n",
       "      <td>-0.020778</td>\n",
       "      <td>0.153305</td>\n",
       "      <td>0.169266</td>\n",
       "    </tr>\n",
       "    <tr>\n",
       "      <th>2014-12-31</th>\n",
       "      <td>0.377168</td>\n",
       "      <td>-0.221771</td>\n",
       "      <td>-0.144639</td>\n",
       "      <td>0.091371</td>\n",
       "      <td>-0.086462</td>\n",
       "    </tr>\n",
       "    <tr>\n",
       "      <th>2015-12-31</th>\n",
       "      <td>-0.046385</td>\n",
       "      <td>1.177831</td>\n",
       "      <td>-0.142234</td>\n",
       "      <td>-0.286213</td>\n",
       "      <td>-0.156842</td>\n",
       "    </tr>\n",
       "    <tr>\n",
       "      <th>2016-12-31</th>\n",
       "      <td>0.100323</td>\n",
       "      <td>0.109456</td>\n",
       "      <td>0.206147</td>\n",
       "      <td>0.127569</td>\n",
       "      <td>0.157922</td>\n",
       "    </tr>\n",
       "    <tr>\n",
       "      <th>2017-12-31</th>\n",
       "      <td>0.318943</td>\n",
       "      <td>0.326390</td>\n",
       "      <td>-0.080487</td>\n",
       "      <td>0.137153</td>\n",
       "      <td>-0.108132</td>\n",
       "    </tr>\n",
       "  </tbody>\n",
       "</table>\n",
       "</div>"
      ],
      "text/plain": [
       "                AAPL      AMZN       IBM       WMT       XOM\n",
       "Date                                                        \n",
       "2001-12-31       NaN       NaN       NaN       NaN       NaN\n",
       "2002-12-31 -0.346154  0.745841 -0.359292 -0.122328 -0.110941\n",
       "2003-12-31  0.500000  1.785601  0.195871  0.050287  0.173440\n",
       "2004-12-31  2.006536 -0.158305  0.063660 -0.004336  0.250244\n",
       "2005-12-31  1.232609  0.064574 -0.166159 -0.113972  0.095786\n",
       "2006-12-31  0.180136 -0.163097  0.181873 -0.013248  0.364251\n",
       "2007-12-31  1.334983  1.347694  0.112712  0.029233  0.222628\n",
       "2008-12-31 -0.569258 -0.446459 -0.221462  0.179466 -0.147935\n",
       "2009-12-31  1.469237  1.623245  0.555371 -0.046557 -0.145810\n",
       "2010-12-31  0.530897  0.338091  0.121161  0.008980  0.072298\n",
       "2011-12-31  0.255642 -0.038333  0.252930  0.108103  0.159190\n",
       "2012-12-31  0.313861  0.449278  0.041712  0.141734  0.021118\n",
       "2013-12-31  0.054328  0.589628 -0.020778  0.153305  0.169266\n",
       "2014-12-31  0.377168 -0.221771 -0.144639  0.091371 -0.086462\n",
       "2015-12-31 -0.046385  1.177831 -0.142234 -0.286213 -0.156842\n",
       "2016-12-31  0.100323  0.109456  0.206147  0.127569  0.157922\n",
       "2017-12-31  0.318943  0.326390 -0.080487  0.137153 -0.108132"
      ]
     },
     "execution_count": 28,
     "metadata": {},
     "output_type": "execute_result"
    }
   ],
   "source": [
    "#Calculate annual_returns by applying .pct_change() to annual_prices\n",
    "annual_returns = annual_prices.pct_change()\n",
    "annual_returns"
   ]
  },
  {
   "cell_type": "code",
   "execution_count": 29,
   "metadata": {},
   "outputs": [
    {
     "data": {
      "text/html": [
       "<div>\n",
       "<style scoped>\n",
       "    .dataframe tbody tr th:only-of-type {\n",
       "        vertical-align: middle;\n",
       "    }\n",
       "\n",
       "    .dataframe tbody tr th {\n",
       "        vertical-align: top;\n",
       "    }\n",
       "\n",
       "    .dataframe thead th {\n",
       "        text-align: right;\n",
       "    }\n",
       "</style>\n",
       "<table border=\"1\" class=\"dataframe\">\n",
       "  <thead>\n",
       "    <tr style=\"text-align: right;\">\n",
       "      <th></th>\n",
       "      <th>AAPL</th>\n",
       "      <th>AMZN</th>\n",
       "      <th>IBM</th>\n",
       "      <th>WMT</th>\n",
       "      <th>XOM</th>\n",
       "    </tr>\n",
       "  </thead>\n",
       "  <tbody>\n",
       "    <tr>\n",
       "      <th>AAPL</th>\n",
       "      <td>1.000000</td>\n",
       "      <td>0.208731</td>\n",
       "      <td>0.460568</td>\n",
       "      <td>-0.183553</td>\n",
       "      <td>0.336413</td>\n",
       "    </tr>\n",
       "    <tr>\n",
       "      <th>AMZN</th>\n",
       "      <td>0.208731</td>\n",
       "      <td>1.000000</td>\n",
       "      <td>0.346407</td>\n",
       "      <td>-0.367620</td>\n",
       "      <td>-0.133965</td>\n",
       "    </tr>\n",
       "    <tr>\n",
       "      <th>IBM</th>\n",
       "      <td>0.460568</td>\n",
       "      <td>0.346407</td>\n",
       "      <td>1.000000</td>\n",
       "      <td>0.155445</td>\n",
       "      <td>0.367253</td>\n",
       "    </tr>\n",
       "    <tr>\n",
       "      <th>WMT</th>\n",
       "      <td>-0.183553</td>\n",
       "      <td>-0.367620</td>\n",
       "      <td>0.155445</td>\n",
       "      <td>1.000000</td>\n",
       "      <td>0.178833</td>\n",
       "    </tr>\n",
       "    <tr>\n",
       "      <th>XOM</th>\n",
       "      <td>0.336413</td>\n",
       "      <td>-0.133965</td>\n",
       "      <td>0.367253</td>\n",
       "      <td>0.178833</td>\n",
       "      <td>1.000000</td>\n",
       "    </tr>\n",
       "  </tbody>\n",
       "</table>\n",
       "</div>"
      ],
      "text/plain": [
       "          AAPL      AMZN       IBM       WMT       XOM\n",
       "AAPL  1.000000  0.208731  0.460568 -0.183553  0.336413\n",
       "AMZN  0.208731  1.000000  0.346407 -0.367620 -0.133965\n",
       "IBM   0.460568  0.346407  1.000000  0.155445  0.367253\n",
       "WMT  -0.183553 -0.367620  0.155445  1.000000  0.178833\n",
       "XOM   0.336413 -0.133965  0.367253  0.178833  1.000000"
      ]
     },
     "execution_count": 29,
     "metadata": {},
     "output_type": "execute_result"
    }
   ],
   "source": [
    "#Calculate correlations by applying .corr() to annual_returns and print the result\n",
    "correlations = annual_returns.corr()\n",
    "correlations"
   ]
  },
  {
   "cell_type": "code",
   "execution_count": 30,
   "metadata": {},
   "outputs": [
    {
     "data": {
      "image/png": "[encoded data removed]",
      "text/plain": [
       "<Figure size 640x480 with 2 Axes>"
      ]
     },
     "metadata": {},
     "output_type": "display_data"
    }
   ],
   "source": [
    "# Visualize the correlations as heatmap here\n",
    "sns.heatmap(correlations, annot=True)\n",
    "plt.show()"
   ]
  }
 ],
 "metadata": {
  "kernelspec": {
   "display_name": "base",
   "language": "python",
   "name": "python3"
  },
  "language_info": {
   "codemirror_mode": {
    "name": "ipython",
    "version": 3
   },
   "file_extension": ".py",
   "mimetype": "text/x-python",
   "name": "python",
   "nbconvert_exporter": "python",
   "pygments_lexer": "ipython3",
   "version": "3.9.13"
  },
  "orig_nbformat": 4,
  "vscode": {
   "interpreter": {
    "hash": "78c229028a3e1cced05226890ea8906423e668e07333a7ad2d3366fcd2dfaa59"
   }
  }
 },
 "nbformat": 4,
 "nbformat_minor": 2
}
