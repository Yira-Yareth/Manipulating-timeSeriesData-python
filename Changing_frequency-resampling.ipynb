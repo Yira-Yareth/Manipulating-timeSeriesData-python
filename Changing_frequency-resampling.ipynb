{
 "cells": [
  {
   "cell_type": "markdown",
   "metadata": {},
   "source": [
    "### Changing the time series frequency: resampling\n",
    "\n",
    "You will begin to learn how to change the frequency of a time series. This is a very common operation because you often need to convert two time series to a common frequency to analyze them together"
   ]
  },
  {
   "cell_type": "markdown",
   "metadata": {},
   "source": [
    "#### Convert monthly to weekly data\n",
    "\n",
    "We'll lear how to use .reindex() to conform an existing time series to a DateTimeIndex at a different frequency.\n",
    "\n",
    "Let's practice this method by creating monthly data and then converting this data to weekly frequency while applying various fill logic options."
   ]
  },
  {
   "cell_type": "code",
   "execution_count": 1,
   "metadata": {},
   "outputs": [],
   "source": [
    "#libraries\n",
    "import pandas as pd \n",
    "from datetime import datetime #To manually create dates\n",
    "import matplotlib.pyplot as plt"
   ]
  },
  {
   "cell_type": "code",
   "execution_count": 2,
   "metadata": {},
   "outputs": [],
   "source": [
    "# Set start and end dates\n",
    "start = '2016-1-1'\n",
    "end = '2016-2-29'"
   ]
  },
  {
   "cell_type": "code",
   "execution_count": 7,
   "metadata": {},
   "outputs": [],
   "source": [
    "#Create monthly_dates using pd.date_range with start, end and frequency alias 'M'\n",
    "monthly_dates = pd.date_range(start=start, end=end, freq=\"M\")\n"
   ]
  },
  {
   "cell_type": "code",
   "execution_count": 8,
   "metadata": {},
   "outputs": [
    {
     "name": "stdout",
     "output_type": "stream",
     "text": [
      "2016-01-31    1\n",
      "2016-02-29    2\n",
      "Freq: M, dtype: int64\n"
     ]
    }
   ],
   "source": [
    "#Create and print the pd.Series monthly, passing the list [1, 2] as the data argument, and using monthly_dates as index\n",
    "monthly = pd.Series(data=[1,2], index=monthly_dates)\n",
    "print(monthly)"
   ]
  },
  {
   "cell_type": "code",
   "execution_count": 11,
   "metadata": {},
   "outputs": [
    {
     "data": {
      "text/plain": [
       "DatetimeIndex(['2016-01-03', '2016-01-10', '2016-01-17', '2016-01-24',\n",
       "               '2016-01-31', '2016-02-07', '2016-02-14', '2016-02-21',\n",
       "               '2016-02-28'],\n",
       "              dtype='datetime64[ns]', freq='W-SUN')"
      ]
     },
     "execution_count": 11,
     "metadata": {},
     "output_type": "execute_result"
    }
   ],
   "source": [
    "#Create weekly_dates using pd.date_range with start, end and frequency alias 'W\n",
    "weekly_dates = pd.date_range(start=start, end=end, freq=\"W\")\n",
    "weekly_dates"
   ]
  },
  {
   "cell_type": "code",
   "execution_count": 12,
   "metadata": {},
   "outputs": [
    {
     "name": "stdout",
     "output_type": "stream",
     "text": [
      "2016-01-03    NaN\n",
      "2016-01-10    NaN\n",
      "2016-01-17    NaN\n",
      "2016-01-24    NaN\n",
      "2016-01-31    1.0\n",
      "2016-02-07    NaN\n",
      "2016-02-14    NaN\n",
      "2016-02-21    NaN\n",
      "2016-02-28    NaN\n",
      "Freq: W-SUN, dtype: float64\n"
     ]
    }
   ],
   "source": [
    "#Apply .reindex() to monthly without additional options and print it\n",
    "print(monthly.reindex(weekly_dates))"
   ]
  },
  {
   "cell_type": "code",
   "execution_count": 13,
   "metadata": {},
   "outputs": [
    {
     "name": "stdout",
     "output_type": "stream",
     "text": [
      "2016-01-03    1\n",
      "2016-01-10    1\n",
      "2016-01-17    1\n",
      "2016-01-24    1\n",
      "2016-01-31    1\n",
      "2016-02-07    2\n",
      "2016-02-14    2\n",
      "2016-02-21    2\n",
      "2016-02-28    2\n",
      "Freq: W-SUN, dtype: int64\n"
     ]
    }
   ],
   "source": [
    "#Apply .reindex() to monthly with bfill and print it\n",
    "print(monthly.reindex(weekly_dates, method='bfill'))"
   ]
  },
  {
   "cell_type": "code",
   "execution_count": 15,
   "metadata": {},
   "outputs": [
    {
     "name": "stdout",
     "output_type": "stream",
     "text": [
      "2016-01-03    NaN\n",
      "2016-01-10    NaN\n",
      "2016-01-17    NaN\n",
      "2016-01-24    NaN\n",
      "2016-01-31    1.0\n",
      "2016-02-07    1.0\n",
      "2016-02-14    1.0\n",
      "2016-02-21    1.0\n",
      "2016-02-28    1.0\n",
      "Freq: W-SUN, dtype: float64\n"
     ]
    }
   ],
   "source": [
    "#Apply .reindex() to monthly with ffill and print it\n",
    "print(monthly.reindex(weekly_dates, method='ffill'))\n"
   ]
  }
 ],
 "metadata": {
  "kernelspec": {
   "display_name": "Python 3.9.13 ('base')",
   "language": "python",
   "name": "python3"
  },
  "language_info": {
   "codemirror_mode": {
    "name": "ipython",
    "version": 3
   },
   "file_extension": ".py",
   "mimetype": "text/x-python",
   "name": "python",
   "nbconvert_exporter": "python",
   "pygments_lexer": "ipython3",
   "version": "3.9.13"
  },
  "orig_nbformat": 4,
  "vscode": {
   "interpreter": {
    "hash": "78c229028a3e1cced05226890ea8906423e668e07333a7ad2d3366fcd2dfaa59"
   }
  }
 },
 "nbformat": 4,
 "nbformat_minor": 2
}
